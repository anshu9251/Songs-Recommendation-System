{
 "cells": [
  {
   "cell_type": "code",
   "execution_count": 80,
   "id": "8c265c9e",
   "metadata": {},
   "outputs": [],
   "source": [
    "import numpy as np\n",
    "import pandas as pd"
   ]
  },
  {
   "cell_type": "code",
   "execution_count": 81,
   "id": "5a76c55a",
   "metadata": {},
   "outputs": [],
   "source": [
    "df = pd.read_csv(\"spotify_millsongdata.csv\")"
   ]
  },
  {
   "cell_type": "code",
   "execution_count": 82,
   "id": "dfb24320",
   "metadata": {},
   "outputs": [
    {
     "data": {
      "text/html": [
       "<div>\n",
       "<style scoped>\n",
       "    .dataframe tbody tr th:only-of-type {\n",
       "        vertical-align: middle;\n",
       "    }\n",
       "\n",
       "    .dataframe tbody tr th {\n",
       "        vertical-align: top;\n",
       "    }\n",
       "\n",
       "    .dataframe thead th {\n",
       "        text-align: right;\n",
       "    }\n",
       "</style>\n",
       "<table border=\"1\" class=\"dataframe\">\n",
       "  <thead>\n",
       "    <tr style=\"text-align: right;\">\n",
       "      <th></th>\n",
       "      <th>artist</th>\n",
       "      <th>song</th>\n",
       "      <th>link</th>\n",
       "      <th>text</th>\n",
       "    </tr>\n",
       "  </thead>\n",
       "  <tbody>\n",
       "    <tr>\n",
       "      <th>0</th>\n",
       "      <td>ABBA</td>\n",
       "      <td>Ahe's My Kind Of Girl</td>\n",
       "      <td>/a/abba/ahes+my+kind+of+girl_20598417.html</td>\n",
       "      <td>Look at her face, it's a wonderful face  \\r\\nA...</td>\n",
       "    </tr>\n",
       "    <tr>\n",
       "      <th>1</th>\n",
       "      <td>ABBA</td>\n",
       "      <td>Andante, Andante</td>\n",
       "      <td>/a/abba/andante+andante_20002708.html</td>\n",
       "      <td>Take it easy with me, please  \\r\\nTouch me gen...</td>\n",
       "    </tr>\n",
       "    <tr>\n",
       "      <th>2</th>\n",
       "      <td>ABBA</td>\n",
       "      <td>As Good As New</td>\n",
       "      <td>/a/abba/as+good+as+new_20003033.html</td>\n",
       "      <td>I'll never know why I had to go  \\r\\nWhy I had...</td>\n",
       "    </tr>\n",
       "    <tr>\n",
       "      <th>3</th>\n",
       "      <td>ABBA</td>\n",
       "      <td>Bang</td>\n",
       "      <td>/a/abba/bang_20598415.html</td>\n",
       "      <td>Making somebody happy is a question of give an...</td>\n",
       "    </tr>\n",
       "    <tr>\n",
       "      <th>4</th>\n",
       "      <td>ABBA</td>\n",
       "      <td>Bang-A-Boomerang</td>\n",
       "      <td>/a/abba/bang+a+boomerang_20002668.html</td>\n",
       "      <td>Making somebody happy is a question of give an...</td>\n",
       "    </tr>\n",
       "  </tbody>\n",
       "</table>\n",
       "</div>"
      ],
      "text/plain": [
       "  artist                   song                                        link  \\\n",
       "0   ABBA  Ahe's My Kind Of Girl  /a/abba/ahes+my+kind+of+girl_20598417.html   \n",
       "1   ABBA       Andante, Andante       /a/abba/andante+andante_20002708.html   \n",
       "2   ABBA         As Good As New        /a/abba/as+good+as+new_20003033.html   \n",
       "3   ABBA                   Bang                  /a/abba/bang_20598415.html   \n",
       "4   ABBA       Bang-A-Boomerang      /a/abba/bang+a+boomerang_20002668.html   \n",
       "\n",
       "                                                text  \n",
       "0  Look at her face, it's a wonderful face  \\r\\nA...  \n",
       "1  Take it easy with me, please  \\r\\nTouch me gen...  \n",
       "2  I'll never know why I had to go  \\r\\nWhy I had...  \n",
       "3  Making somebody happy is a question of give an...  \n",
       "4  Making somebody happy is a question of give an...  "
      ]
     },
     "execution_count": 82,
     "metadata": {},
     "output_type": "execute_result"
    }
   ],
   "source": [
    "df.head()"
   ]
  },
  {
   "cell_type": "code",
   "execution_count": 83,
   "id": "83e43ac4",
   "metadata": {},
   "outputs": [
    {
     "data": {
      "text/plain": [
       "(57650, 4)"
      ]
     },
     "execution_count": 83,
     "metadata": {},
     "output_type": "execute_result"
    }
   ],
   "source": [
    "df.shape"
   ]
  },
  {
   "cell_type": "code",
   "execution_count": 66,
   "id": "9499f9ee",
   "metadata": {},
   "outputs": [
    {
     "name": "stdout",
     "output_type": "stream",
     "text": [
      "<class 'pandas.core.frame.DataFrame'>\n",
      "RangeIndex: 57650 entries, 0 to 57649\n",
      "Data columns (total 4 columns):\n",
      " #   Column  Non-Null Count  Dtype \n",
      "---  ------  --------------  ----- \n",
      " 0   artist  57650 non-null  object\n",
      " 1   song    57650 non-null  object\n",
      " 2   link    57650 non-null  object\n",
      " 3   text    57650 non-null  object\n",
      "dtypes: object(4)\n",
      "memory usage: 1.8+ MB\n"
     ]
    }
   ],
   "source": [
    "df.info()"
   ]
  },
  {
   "cell_type": "code",
   "execution_count": 67,
   "id": "8afe4a52",
   "metadata": {},
   "outputs": [
    {
     "data": {
      "text/plain": [
       "artist    0\n",
       "song      0\n",
       "link      0\n",
       "text      0\n",
       "dtype: int64"
      ]
     },
     "execution_count": 67,
     "metadata": {},
     "output_type": "execute_result"
    }
   ],
   "source": [
    "df.isnull().sum()"
   ]
  },
  {
   "cell_type": "code",
   "execution_count": 68,
   "id": "c3063ea0",
   "metadata": {},
   "outputs": [
    {
     "data": {
      "text/plain": [
       "0"
      ]
     },
     "execution_count": 68,
     "metadata": {},
     "output_type": "execute_result"
    }
   ],
   "source": [
    "df.duplicated().sum()"
   ]
  },
  {
   "cell_type": "code",
   "execution_count": 69,
   "id": "b7bbf028",
   "metadata": {},
   "outputs": [
    {
     "data": {
      "text/plain": [
       "0                ABBA\n",
       "1                ABBA\n",
       "2                ABBA\n",
       "3                ABBA\n",
       "4                ABBA\n",
       "             ...     \n",
       "57645    Ziggy Marley\n",
       "57646    Ziggy Marley\n",
       "57647            Zwan\n",
       "57648            Zwan\n",
       "57649            Zwan\n",
       "Name: artist, Length: 57650, dtype: object"
      ]
     },
     "execution_count": 69,
     "metadata": {},
     "output_type": "execute_result"
    }
   ],
   "source": [
    "df['artist']"
   ]
  },
  {
   "cell_type": "code",
   "execution_count": 84,
   "id": "c7af903a",
   "metadata": {},
   "outputs": [],
   "source": [
    "df =df.sample(5000).drop('link', axis=1).reset_index(drop=True)"
   ]
  },
  {
   "cell_type": "code",
   "execution_count": 87,
   "id": "7cc89101",
   "metadata": {},
   "outputs": [
    {
     "data": {
      "text/html": [
       "<div>\n",
       "<style scoped>\n",
       "    .dataframe tbody tr th:only-of-type {\n",
       "        vertical-align: middle;\n",
       "    }\n",
       "\n",
       "    .dataframe tbody tr th {\n",
       "        vertical-align: top;\n",
       "    }\n",
       "\n",
       "    .dataframe thead th {\n",
       "        text-align: right;\n",
       "    }\n",
       "</style>\n",
       "<table border=\"1\" class=\"dataframe\">\n",
       "  <thead>\n",
       "    <tr style=\"text-align: right;\">\n",
       "      <th></th>\n",
       "      <th>artist</th>\n",
       "      <th>song</th>\n",
       "      <th>text</th>\n",
       "    </tr>\n",
       "  </thead>\n",
       "  <tbody>\n",
       "    <tr>\n",
       "      <th>0</th>\n",
       "      <td>Doors</td>\n",
       "      <td>Moonlight Drive</td>\n",
       "      <td>Let's swim to the moon, uh huh  \\r\\nLet's clim...</td>\n",
       "    </tr>\n",
       "    <tr>\n",
       "      <th>1</th>\n",
       "      <td>Radiohead</td>\n",
       "      <td>Pyramid Song</td>\n",
       "      <td>I jumped in the river, what did I see?  \\r\\nBl...</td>\n",
       "    </tr>\n",
       "    <tr>\n",
       "      <th>2</th>\n",
       "      <td>Manowar</td>\n",
       "      <td>Each Dawn I Die</td>\n",
       "      <td>Passing through the storm -  \\r\\nLed by demons...</td>\n",
       "    </tr>\n",
       "    <tr>\n",
       "      <th>3</th>\n",
       "      <td>Alice Cooper</td>\n",
       "      <td>Identity Crisises</td>\n",
       "      <td>Sometimes I'm James Bond  \\r\\nSometimes I'm Bi...</td>\n",
       "    </tr>\n",
       "    <tr>\n",
       "      <th>4</th>\n",
       "      <td>Whitesnake</td>\n",
       "      <td>Sweet Talker</td>\n",
       "      <td>I can tell by way you walk,  \\r\\nYou give it a...</td>\n",
       "    </tr>\n",
       "  </tbody>\n",
       "</table>\n",
       "</div>"
      ],
      "text/plain": [
       "         artist               song  \\\n",
       "0         Doors    Moonlight Drive   \n",
       "1     Radiohead       Pyramid Song   \n",
       "2       Manowar    Each Dawn I Die   \n",
       "3  Alice Cooper  Identity Crisises   \n",
       "4    Whitesnake       Sweet Talker   \n",
       "\n",
       "                                                text  \n",
       "0  Let's swim to the moon, uh huh  \\r\\nLet's clim...  \n",
       "1  I jumped in the river, what did I see?  \\r\\nBl...  \n",
       "2  Passing through the storm -  \\r\\nLed by demons...  \n",
       "3  Sometimes I'm James Bond  \\r\\nSometimes I'm Bi...  \n",
       "4  I can tell by way you walk,  \\r\\nYou give it a...  "
      ]
     },
     "execution_count": 87,
     "metadata": {},
     "output_type": "execute_result"
    }
   ],
   "source": [
    "df.head()"
   ]
  },
  {
   "cell_type": "code",
   "execution_count": 86,
   "id": "6686ecee",
   "metadata": {},
   "outputs": [
    {
     "data": {
      "text/plain": [
       "\"Let's swim to the moon, uh huh  \\r\\nLet's climb through the tide  \\r\\nPenetrate the evenin' that the  \\r\\nCity sleeps to hide  \\r\\nLet's swim out tonight, love  \\r\\nIt's our turn to try  \\r\\nParked beside the ocean  \\r\\nOn our moonlight drive  \\r\\nLet's swim to the moon, uh huh  \\r\\nLet's climb through the tide  \\r\\nSurrender to the waiting worlds  \\r\\nThat lap against our side  \\r\\nNothin' left open  \\r\\nAnd no time to decide  \\r\\nWe've stepped into a river  \\r\\nOn our moonlight drive  \\r\\nLet's swim to the moon  \\r\\nLet's climb through the tide  \\r\\nYou reach your hand to hold me  \\r\\nBut I can't be your guide  \\r\\nEasy, I love you  \\r\\nAs I watch you glide  \\r\\nFalling through wet forests  \\r\\nOn our moonlight drive, baby  \\r\\nMoonlight drive  \\r\\nCome on, baby, gonna take a little ride  \\r\\nDown, down by the ocean side  \\r\\nGonna get real close  \\r\\nGet real tight  \\r\\nBaby gonna drown tonight  \\r\\nGoin' down, down, down\\r\\n\\r\\n\""
      ]
     },
     "execution_count": 86,
     "metadata": {},
     "output_type": "execute_result"
    }
   ],
   "source": [
    "df['text'][0]"
   ]
  },
  {
   "cell_type": "code",
   "execution_count": 88,
   "id": "2a5d2d39",
   "metadata": {},
   "outputs": [],
   "source": [
    "df['text'] = df['text'].str.lower()"
   ]
  },
  {
   "cell_type": "code",
   "execution_count": 89,
   "id": "909502b6",
   "metadata": {},
   "outputs": [
    {
     "data": {
      "text/plain": [
       "\"let's swim to the moon, uh huh  \\r\\nlet's climb through the tide  \\r\\npenetrate the evenin' that the  \\r\\ncity sleeps to hide  \\r\\nlet's swim out tonight, love  \\r\\nit's our turn to try  \\r\\nparked beside the ocean  \\r\\non our moonlight drive  \\r\\nlet's swim to the moon, uh huh  \\r\\nlet's climb through the tide  \\r\\nsurrender to the waiting worlds  \\r\\nthat lap against our side  \\r\\nnothin' left open  \\r\\nand no time to decide  \\r\\nwe've stepped into a river  \\r\\non our moonlight drive  \\r\\nlet's swim to the moon  \\r\\nlet's climb through the tide  \\r\\nyou reach your hand to hold me  \\r\\nbut i can't be your guide  \\r\\neasy, i love you  \\r\\nas i watch you glide  \\r\\nfalling through wet forests  \\r\\non our moonlight drive, baby  \\r\\nmoonlight drive  \\r\\ncome on, baby, gonna take a little ride  \\r\\ndown, down by the ocean side  \\r\\ngonna get real close  \\r\\nget real tight  \\r\\nbaby gonna drown tonight  \\r\\ngoin' down, down, down\\r\\n\\r\\n\""
      ]
     },
     "execution_count": 89,
     "metadata": {},
     "output_type": "execute_result"
    }
   ],
   "source": [
    "df['text'][0]"
   ]
  },
  {
   "cell_type": "code",
   "execution_count": 90,
   "id": "828f7d15",
   "metadata": {},
   "outputs": [],
   "source": [
    "import nltk\n",
    "from nltk.corpus import stopwords\n",
    "from nltk.stem import PorterStemmer\n",
    "from nltk.tokenize import word_tokenize"
   ]
  },
  {
   "cell_type": "code",
   "execution_count": 91,
   "id": "63b0f0e5",
   "metadata": {},
   "outputs": [],
   "source": [
    "def preprocesss(text):\n",
    "    token = word_tokenize(text)\n",
    "    \n",
    "    stop_words = set(stopwords.words('english'))\n",
    "    stemmer = PorterStemmer()\n",
    "    \n",
    "    y = []\n",
    "    \n",
    "    for i in token:\n",
    "        if i.isalpha() and i not in stop_words:\n",
    "            stemmed_token = stemmer.stem(i)\n",
    "            y.append(stemmed_token)\n",
    "    \n",
    "    return \" \".join(y)"
   ]
  },
  {
   "cell_type": "code",
   "execution_count": 92,
   "id": "3e5d6b7d",
   "metadata": {},
   "outputs": [],
   "source": [
    "df['text'] = df['text'].apply(preprocesss)"
   ]
  },
  {
   "cell_type": "code",
   "execution_count": 93,
   "id": "b6bb8dcb",
   "metadata": {},
   "outputs": [
    {
     "data": {
      "text/plain": [
       "'let swim moon uh huh let climb tide penetr evenin citi sleep hide let swim tonight love turn tri park besid ocean moonlight drive let swim moon uh huh let climb tide surrend wait world lap side nothin left open time decid step river moonlight drive let swim moon let climb tide reach hand hold ca guid easi love watch glide fall wet forest moonlight drive babi moonlight drive come babi gon na take littl ride ocean side gon na get real close get real tight babi gon na drown tonight goin'"
      ]
     },
     "execution_count": 93,
     "metadata": {},
     "output_type": "execute_result"
    }
   ],
   "source": [
    "df['text'][0]"
   ]
  },
  {
   "cell_type": "code",
   "execution_count": 94,
   "id": "63a845b4",
   "metadata": {},
   "outputs": [
    {
     "data": {
      "text/html": [
       "<div>\n",
       "<style scoped>\n",
       "    .dataframe tbody tr th:only-of-type {\n",
       "        vertical-align: middle;\n",
       "    }\n",
       "\n",
       "    .dataframe tbody tr th {\n",
       "        vertical-align: top;\n",
       "    }\n",
       "\n",
       "    .dataframe thead th {\n",
       "        text-align: right;\n",
       "    }\n",
       "</style>\n",
       "<table border=\"1\" class=\"dataframe\">\n",
       "  <thead>\n",
       "    <tr style=\"text-align: right;\">\n",
       "      <th></th>\n",
       "      <th>artist</th>\n",
       "      <th>song</th>\n",
       "      <th>text</th>\n",
       "    </tr>\n",
       "  </thead>\n",
       "  <tbody>\n",
       "    <tr>\n",
       "      <th>0</th>\n",
       "      <td>Doors</td>\n",
       "      <td>Moonlight Drive</td>\n",
       "      <td>let swim moon uh huh let climb tide penetr eve...</td>\n",
       "    </tr>\n",
       "    <tr>\n",
       "      <th>1</th>\n",
       "      <td>Radiohead</td>\n",
       "      <td>Pyramid Song</td>\n",
       "      <td>jump river see angel swam moon full star astra...</td>\n",
       "    </tr>\n",
       "    <tr>\n",
       "      <th>2</th>\n",
       "      <td>Manowar</td>\n",
       "      <td>Each Dawn I Die</td>\n",
       "      <td>pass storm led demon walk world men god cast s...</td>\n",
       "    </tr>\n",
       "    <tr>\n",
       "      <th>3</th>\n",
       "      <td>Alice Cooper</td>\n",
       "      <td>Identity Crisises</td>\n",
       "      <td>sometim jame bond sometim billi kid sometim fe...</td>\n",
       "    </tr>\n",
       "    <tr>\n",
       "      <th>4</th>\n",
       "      <td>Whitesnake</td>\n",
       "      <td>Sweet Talker</td>\n",
       "      <td>tell way walk give away sweet way talk ye got ...</td>\n",
       "    </tr>\n",
       "  </tbody>\n",
       "</table>\n",
       "</div>"
      ],
      "text/plain": [
       "         artist               song  \\\n",
       "0         Doors    Moonlight Drive   \n",
       "1     Radiohead       Pyramid Song   \n",
       "2       Manowar    Each Dawn I Die   \n",
       "3  Alice Cooper  Identity Crisises   \n",
       "4    Whitesnake       Sweet Talker   \n",
       "\n",
       "                                                text  \n",
       "0  let swim moon uh huh let climb tide penetr eve...  \n",
       "1  jump river see angel swam moon full star astra...  \n",
       "2  pass storm led demon walk world men god cast s...  \n",
       "3  sometim jame bond sometim billi kid sometim fe...  \n",
       "4  tell way walk give away sweet way talk ye got ...  "
      ]
     },
     "execution_count": 94,
     "metadata": {},
     "output_type": "execute_result"
    }
   ],
   "source": [
    "df.head()"
   ]
  },
  {
   "cell_type": "code",
   "execution_count": 95,
   "id": "08ea1218",
   "metadata": {},
   "outputs": [],
   "source": [
    "from sklearn.feature_extraction.text import TfidfVectorizer"
   ]
  },
  {
   "cell_type": "code",
   "execution_count": 96,
   "id": "bc74c7fd",
   "metadata": {},
   "outputs": [],
   "source": [
    "tfidf = TfidfVectorizer(analyzer='word')"
   ]
  },
  {
   "cell_type": "code",
   "execution_count": 99,
   "id": "362e3251",
   "metadata": {},
   "outputs": [],
   "source": [
    "vectors = tfidf.fit_transform(df['text']).toarray()"
   ]
  },
  {
   "cell_type": "code",
   "execution_count": 100,
   "id": "0f5894b3",
   "metadata": {},
   "outputs": [
    {
     "data": {
      "text/plain": [
       "array([0., 0., 0., ..., 0., 0., 0.])"
      ]
     },
     "execution_count": 100,
     "metadata": {},
     "output_type": "execute_result"
    }
   ],
   "source": [
    "vectors[0]"
   ]
  },
  {
   "cell_type": "code",
   "execution_count": 101,
   "id": "f21539be",
   "metadata": {},
   "outputs": [
    {
     "data": {
      "text/plain": [
       "array(['aaaaaaah', 'aaaaaahhhhhhhh', 'aaaaahhh', ..., 'zulu', 'zung',\n",
       "       'zutto'], dtype=object)"
      ]
     },
     "execution_count": 101,
     "metadata": {},
     "output_type": "execute_result"
    }
   ],
   "source": [
    "tfidf.get_feature_names_out()"
   ]
  },
  {
   "cell_type": "code",
   "execution_count": 102,
   "id": "8b14a797",
   "metadata": {},
   "outputs": [],
   "source": [
    "from sklearn.metrics.pairwise import cosine_similarity"
   ]
  },
  {
   "cell_type": "code",
   "execution_count": 103,
   "id": "f559ea67",
   "metadata": {
    "scrolled": true
   },
   "outputs": [],
   "source": [
    "similar = cosine_similarity(vectors)"
   ]
  },
  {
   "cell_type": "code",
   "execution_count": 104,
   "id": "1c72f1c9",
   "metadata": {},
   "outputs": [
    {
     "data": {
      "text/plain": [
       "array([1.        , 0.04589285, 0.00758816, ..., 0.00670713, 0.01102845,\n",
       "       0.01221752])"
      ]
     },
     "execution_count": 104,
     "metadata": {},
     "output_type": "execute_result"
    }
   ],
   "source": [
    "similar[0]"
   ]
  },
  {
   "cell_type": "code",
   "execution_count": 105,
   "id": "64be0a3b",
   "metadata": {},
   "outputs": [
    {
     "data": {
      "text/plain": [
       "(5000, 5000)"
      ]
     },
     "execution_count": 105,
     "metadata": {},
     "output_type": "execute_result"
    }
   ],
   "source": [
    "similar.shape"
   ]
  },
  {
   "cell_type": "code",
   "execution_count": 106,
   "id": "0f241b00",
   "metadata": {},
   "outputs": [],
   "source": [
    "# now we will create a recommender function"
   ]
  },
  {
   "cell_type": "code",
   "execution_count": 138,
   "id": "37aa64f6",
   "metadata": {},
   "outputs": [],
   "source": [
    "def recommend(song):\n",
    "    index = np.where(df['song']==song)[0][0]\n",
    "    similar_songs = sorted(list(enumerate(similar[index])),reverse=True,key = lambda x:x[1])[1:6]\n",
    "    \n",
    "    for i in similar_songs:\n",
    "        print(df['song'][i[0]])\n",
    "    "
   ]
  },
  {
   "cell_type": "code",
   "execution_count": 141,
   "id": "6cb5d38f",
   "metadata": {},
   "outputs": [
    {
     "name": "stdout",
     "output_type": "stream",
     "text": [
      "Moonlight Drive (Including Horse Latitudes)\n",
      "Moonlight Eyes\n",
      "Let Me Down Easy\n",
      "Let Me Love You Tonight\n",
      "On Moonlight Bay\n"
     ]
    }
   ],
   "source": [
    "recommend(\"Moonlight Drive\")"
   ]
  },
  {
   "cell_type": "code",
   "execution_count": 142,
   "id": "7eb4b22d",
   "metadata": {},
   "outputs": [],
   "source": [
    "import pickle"
   ]
  },
  {
   "cell_type": "code",
   "execution_count": 144,
   "id": "e9e4167a",
   "metadata": {},
   "outputs": [],
   "source": [
    "pickle.dump(df,open('songs.pkl','wb'))\n",
    "pickle.dump(similar,open('similar.pkl','wb'))"
   ]
  },
  {
   "cell_type": "code",
   "execution_count": null,
   "id": "0c5a23e2",
   "metadata": {},
   "outputs": [],
   "source": []
  }
 ],
 "metadata": {
  "kernelspec": {
   "display_name": "Python 3 (ipykernel)",
   "language": "python",
   "name": "python3"
  },
  "language_info": {
   "codemirror_mode": {
    "name": "ipython",
    "version": 3
   },
   "file_extension": ".py",
   "mimetype": "text/x-python",
   "name": "python",
   "nbconvert_exporter": "python",
   "pygments_lexer": "ipython3",
   "version": "3.11.5"
  }
 },
 "nbformat": 4,
 "nbformat_minor": 5
}
